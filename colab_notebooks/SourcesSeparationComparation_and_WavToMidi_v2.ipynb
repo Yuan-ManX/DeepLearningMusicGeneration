{
  "nbformat": 4,
  "nbformat_minor": 0,
  "metadata": {
    "colab": {
      "name": "Copia de SourcesSeparationComparation_and_WavToMidi_v2.ipynb",
      "provenance": [],
      "collapsed_sections": [],
      "authorship_tag": "ABX9TyMONnta3OKqZW33X0kYJePE",
      "include_colab_link": true
    },
    "kernelspec": {
      "name": "python3",
      "display_name": "Python 3"
    }
  },
  "cells": [
    {
      "cell_type": "markdown",
      "metadata": {
        "id": "view-in-github",
        "colab_type": "text"
      },
      "source": [
        "<a href=\"https://colab.research.google.com/github/carlosholivan/AIMusicGeneration/blob/master/SourcesSeparationComparation_and_WavToMidi_v2.ipynb\" target=\"_parent\"><img src=\"https://colab.research.google.com/assets/colab-badge.svg\" alt=\"Open In Colab\"/></a>"
      ]
    },
    {
      "cell_type": "markdown",
      "metadata": {
        "id": "WQ-sIaqlv-j1",
        "colab_type": "text"
      },
      "source": [
        "Copyright 2020 Carlos Hernández Oliván.\n",
        "\n",
        "Licensed under the Apache License, Version 2.0 (the \"License\"); you may not use this file except in compliance with the License. You may obtain a copy of the License at\n",
        "\n",
        "https://www.apache.org/licenses/LICENSE-2.0\n",
        "\n",
        "Unless required by applicable law or agreed to in writing, software distributed under the License is distributed on an \"AS IS\" BASIS, WITHOUT WARRANTIES OR CONDITIONS OF ANY KIND, either express or implied. See the License for the specific language governing permissions and limitations under the License."
      ]
    },
    {
      "cell_type": "markdown",
      "metadata": {
        "id": "I8rnd8fHwD4h",
        "colab_type": "text"
      },
      "source": [
        "![picture](https://www.clubexcelencia.org/sites/default/files/fotos/images/noticias/visionarios/universidadzaragoza01.jpg)\n",
        "\n",
        "# WAV TO MIDI\n",
        "\n",
        "\n",
        "Author: Carlos Hernández [Github](https://github.com/carlosholivan)\n",
        "\n",
        "Department of Electronic Engineering and Communications, Universidad de Zaragoza, Calle María de Luna 3, 50018 Zaragoza\n",
        "\n",
        "This notebook provides a comparation between 2 sources separation libraries, demucs from facebook and spleeter by deezer. \n",
        "\n",
        "WARNING: If you upload .wav files or large .mp3 files it will take a while to upload and display them."
      ]
    },
    {
      "cell_type": "markdown",
      "metadata": {
        "id": "L4QpRj5E2aB9",
        "colab_type": "text"
      },
      "source": [
        "INSTRUCTIONS:\n",
        "\n",
        "Run every cell in the notebook **in order**. Cells with \"(optional)\" are not compulsory to run."
      ]
    },
    {
      "cell_type": "markdown",
      "metadata": {
        "id": "ekAMIOtVQXGk",
        "colab_type": "text"
      },
      "source": [
        "\n",
        "![picture](https://drive.google.com/uc?id=17qBD02Te8vg04v7z4QWZydZchTQ8S8vr)\n",
        "\n",
        "## Table of contents\n",
        "\n",
        "1. [Sources Separation](#sources-separation)\n",
        "  * [DEMUCS by Facebook](#demucs-by-facebook)\n",
        "  * [SPLEETER by Deezer](#spleeter-by-deezer)\n",
        "  * [SPLEETER vs DEMUCS](#spleeter-vs-demucs)\n",
        "2. [Onset Detection](#onset-detection)  \n",
        "  * [MAGENTA ONSET AND FRAMES - Polyphonic piano music transcription](#magenta-onsets)"
      ]
    },
    {
      "cell_type": "code",
      "metadata": {
        "id": "oO3GvsD8Sp8s",
        "colab_type": "code",
        "cellView": "form",
        "colab": {}
      },
      "source": [
        "#@title Upload Audio File (mp3 or wav)\n",
        "\n",
        "from google.colab import files\n",
        "uploaded = files.upload()\n"
      ],
      "execution_count": 0,
      "outputs": []
    },
    {
      "cell_type": "code",
      "metadata": {
        "id": "aIYEZ51HfQBL",
        "colab_type": "code",
        "cellView": "form",
        "colab": {}
      },
      "source": [
        "#@title Rewrite file name\n",
        "import os\n",
        "\n",
        "for name, data in uploaded.items():\n",
        "  with open(name, 'wb') as f:\n",
        "    f.write(data)\n",
        "    os.rename(f.name, 'file.mp3')\n",
        "    print ('saved file with name:', name)"
      ],
      "execution_count": 0,
      "outputs": []
    },
    {
      "cell_type": "markdown",
      "metadata": {
        "id": "7t9yG_rxFcB9",
        "colab_type": "text"
      },
      "source": [
        "## <a name=\"sources-separation\"></a>SOURCES SEPARATION \n",
        "\n",
        "![picture](https://drive.google.com/uc?id=1lmLB8zIeaP5iQZmEhfoaKduFhKZnZDGS)"
      ]
    },
    {
      "cell_type": "markdown",
      "metadata": {
        "id": "r_fLAuHVF-2X",
        "colab_type": "text"
      },
      "source": [
        "### <a name=\"demucs-by-facebook\"></a>DEMUCS by Facebook\n",
        "\n",
        "It separates 4 sources: DRUMS, BASS, VOCALS and \"OTHERS\"\n",
        "\n",
        "Dataset : MusDB [[Website]](https://sigsep.github.io/datasets/musdb.html#musdb18-compressed-stems)\n",
        "\n",
        "Architecture: encoder/decoder compoased of a convolutional encoder, a bidirectional LSTM and a convolutional decoder. The encoder and decoder are linked with skip U-Net connections.\n",
        "\n",
        "![picture](https://drive.google.com/uc?id=1d6SFK4_6dHx1p_7cypbeepQ9uJl5ZFWo)\n",
        "\n",
        "[[Github]](https://github.com/facebookresearch/demucs) [[Paper]](https://hal.archives-ouvertes.fr/hal-02379796/document)"
      ]
    },
    {
      "cell_type": "code",
      "metadata": {
        "id": "gT3sOELijHN7",
        "colab_type": "code",
        "cellView": "form",
        "colab": {}
      },
      "source": [
        "#@title Anaconda Download\n",
        "\n",
        "!wget -c https://repo.continuum.io/archive/Anaconda3-5.1.0-Linux-x86_64.sh"
      ],
      "execution_count": 0,
      "outputs": []
    },
    {
      "cell_type": "code",
      "metadata": {
        "id": "NyLLsdEtxn_M",
        "colab_type": "code",
        "cellView": "form",
        "colab": {}
      },
      "source": [
        "#@title Permises\n",
        "\n",
        "!chmod +x Anaconda3-5.1.0-Linux-x86_64.sh"
      ],
      "execution_count": 0,
      "outputs": []
    },
    {
      "cell_type": "code",
      "metadata": {
        "id": "9KrckUQ7xrMo",
        "colab_type": "code",
        "cellView": "form",
        "colab": {}
      },
      "source": [
        "#@title Anaconda Path\n",
        "\n",
        "!bash ./Anaconda3-5.1.0-Linux-x86_64.sh -b -f -p /usr/local"
      ],
      "execution_count": 0,
      "outputs": []
    },
    {
      "cell_type": "code",
      "metadata": {
        "id": "zs70cx-XxvlI",
        "colab_type": "code",
        "cellView": "form",
        "colab": {}
      },
      "source": [
        "#@title Demucs Download\n",
        "import sys\n",
        "sys.path.append('/usr/local/lib/python3.7/site-packages/')\n",
        "\n",
        "!git clone https://github.com/facebookresearch/demucs"
      ],
      "execution_count": 0,
      "outputs": []
    },
    {
      "cell_type": "code",
      "metadata": {
        "id": "7S2V5dVHxwJc",
        "colab_type": "code",
        "cellView": "form",
        "colab": {}
      },
      "source": [
        "#@title Go to Demucs Path\n",
        "\n",
        "os.chdir('demucs')"
      ],
      "execution_count": 0,
      "outputs": []
    },
    {
      "cell_type": "code",
      "metadata": {
        "id": "v3pCF7MxxyMJ",
        "colab_type": "code",
        "cellView": "form",
        "colab": {}
      },
      "source": [
        "#@title Conda Update\n",
        "\n",
        "!conda update -n base conda"
      ],
      "execution_count": 0,
      "outputs": []
    },
    {
      "cell_type": "code",
      "metadata": {
        "id": "mb_77hKv6Z-G",
        "colab_type": "code",
        "cellView": "form",
        "colab": {}
      },
      "source": [
        "#@title Demucs Model Download\n",
        "!conda env update -f environment-cpu.yml"
      ],
      "execution_count": 0,
      "outputs": []
    },
    {
      "cell_type": "code",
      "metadata": {
        "id": "rxIdZmlWx5dz",
        "colab_type": "code",
        "cellView": "form",
        "colab": {}
      },
      "source": [
        "#@title Conda init\n",
        "\n",
        "!conda init bash"
      ],
      "execution_count": 0,
      "outputs": []
    },
    {
      "cell_type": "code",
      "metadata": {
        "id": "6LbvzNkkHQV9",
        "colab_type": "code",
        "cellView": "form",
        "colab": {}
      },
      "source": [
        "#@title Demucs Activation\n",
        "!conda activate demucs\n"
      ],
      "execution_count": 0,
      "outputs": []
    },
    {
      "cell_type": "code",
      "metadata": {
        "id": "ZdKQm7Wfx_Gg",
        "colab_type": "code",
        "cellView": "form",
        "colab": {}
      },
      "source": [
        "#@title Install Pytorch\n",
        "!pip install torch numpy scipy"
      ],
      "execution_count": 0,
      "outputs": []
    },
    {
      "cell_type": "code",
      "metadata": {
        "id": "up6OtnbjImP_",
        "colab_type": "code",
        "cellView": "form",
        "colab": {}
      },
      "source": [
        "#@title Copy File in Demucs Directory\n",
        "!cp '/content/file.mp3' demucs/"
      ],
      "execution_count": 0,
      "outputs": []
    },
    {
      "cell_type": "code",
      "metadata": {
        "id": "XjE86VNaIybu",
        "colab_type": "code",
        "cellView": "form",
        "colab": {}
      },
      "source": [
        "#@title Go to Demucs Directory\n",
        "!cd demucs"
      ],
      "execution_count": 0,
      "outputs": []
    },
    {
      "cell_type": "code",
      "metadata": {
        "id": "ODF_QUbRyC10",
        "colab_type": "code",
        "cellView": "form",
        "colab": {}
      },
      "source": [
        "#@title Demucs Separation\n",
        "!pip install tqdm\n",
        "!python3 -m pip install -U lameenc #necesary to expot as .mp3\n",
        "!python3 -m demucs.separate --dl -n demucs --mp3 -d cpu '/content/file.mp3' "
      ],
      "execution_count": 0,
      "outputs": []
    },
    {
      "cell_type": "code",
      "metadata": {
        "id": "NcGyhc4OJcDL",
        "colab_type": "code",
        "cellView": "form",
        "colab": {}
      },
      "source": [
        "#@title Create Directories\n",
        "!mkdir /output/\n",
        "!mkdir /output/demucs/"
      ],
      "execution_count": 0,
      "outputs": []
    },
    {
      "cell_type": "code",
      "metadata": {
        "id": "SO69eqZkJR0K",
        "colab_type": "code",
        "cellView": "form",
        "colab": {}
      },
      "source": [
        "#@title Move Files\n",
        "!mv /content/demucs/separated/demucs/ /output/demucs/"
      ],
      "execution_count": 0,
      "outputs": []
    },
    {
      "cell_type": "code",
      "metadata": {
        "id": "wz9LjymtKiwO",
        "colab_type": "code",
        "cellView": "form",
        "colab": {}
      },
      "source": [
        "#@title Check Files (optional)\n",
        "\n",
        "!ls /output/demucs/file"
      ],
      "execution_count": 0,
      "outputs": []
    },
    {
      "cell_type": "markdown",
      "metadata": {
        "id": "kQQNg9d3GNm9",
        "colab_type": "text"
      },
      "source": [
        "### <a name=\"spleeter-by-deezer\"></a>SPLEETER by Deezer\n",
        "\n",
        "\n",
        "![picture](https://drive.google.com/uc?id=16wKFoGwy9iqlyKsXIthoYry7Szq8KNbs)\n",
        "\n",
        "Pre-trained models:\n",
        "* Vocals (singing voice) / accompaniment separation (2 stems)\n",
        "* Vocals / drums / bass / other separation (4 stems)\n",
        "* Vocals / drums / bass / piano / other separation (5 stems)\n",
        "\n",
        "[[Github]](https://github.com/deezer/spleeter) [[GoogleColab]](https://colab.research.google.com/github/deezer/spleeter/blob/master/spleeter.ipynb)\n",
        "\n",
        "Papers: \n",
        "\n",
        "* Andreas Jansson, Eric J. Humphrey, Nicola Montecchio, Rachel Bittner, Aparna Kumar, and Tillman Weyde. Singingvoice  separation  with  deep  u-net  convolutional  networks.  InProceedings of the International Society for MusicInformation Retrieval Conference (ISMIR), pages 323–332, 2017. [[Link]](https://openaccess.city.ac.uk/id/eprint/19289/1/)\n",
        "\n",
        "![picture](https://drive.google.com/uc?id=1IBAvLidq5FWcHcCggTU8MMH_EkuQ8Avq)\n",
        "\n",
        "Other references to see: \n",
        "\n",
        "* MIMILAKIS, Stylianos I.; DROSSOS, Konstantinos; SCHULLER, Gerald. Unsupervised Interpretable Representation Learning for Singing Voice Separation. arXiv preprint arXiv:2003.01567, 2020. [[Link]](https://arxiv.org/pdf/2003.01567.pdf)"
      ]
    },
    {
      "cell_type": "code",
      "metadata": {
        "id": "iHkJaXFRFHaO",
        "colab_type": "code",
        "cellView": "form",
        "colab": {}
      },
      "source": [
        "#@title ffmpeg installation\n",
        "\n",
        "!apt install ffmpeg"
      ],
      "execution_count": 0,
      "outputs": []
    },
    {
      "cell_type": "code",
      "metadata": {
        "id": "gesNchwdEfmN",
        "colab_type": "code",
        "cellView": "form",
        "colab": {}
      },
      "source": [
        "#@title Spleeter Installation\n",
        "\n",
        "!pip install spleeter"
      ],
      "execution_count": 0,
      "outputs": []
    },
    {
      "cell_type": "code",
      "metadata": {
        "id": "bzdNhe8qErTx",
        "colab_type": "code",
        "cellView": "form",
        "colab": {}
      },
      "source": [
        "#@title Spleeter options (optional)\n",
        "!spleeter separate -h"
      ],
      "execution_count": 0,
      "outputs": []
    },
    {
      "cell_type": "code",
      "metadata": {
        "id": "L6A-2kbzllnX",
        "colab_type": "code",
        "cellView": "form",
        "colab": {}
      },
      "source": [
        "#@title Create Spleeter Directory\n",
        "\n",
        "!mkdir /output/spleeter"
      ],
      "execution_count": 0,
      "outputs": []
    },
    {
      "cell_type": "code",
      "metadata": {
        "id": "TZ3CQOFXEsNJ",
        "colab_type": "code",
        "cellView": "form",
        "colab": {}
      },
      "source": [
        "#@title Spleeter Separation\n",
        "!spleeter separate -i '/content/file.mp3' -p spleeter:4stems -o '/output/spleeter/' -c mp3"
      ],
      "execution_count": 0,
      "outputs": []
    },
    {
      "cell_type": "markdown",
      "metadata": {
        "id": "iAL-2O92WbCV",
        "colab_type": "text"
      },
      "source": [
        "Once we have the audio file separated we just show the audio samples to listen to them"
      ]
    },
    {
      "cell_type": "code",
      "metadata": {
        "id": "zoXGCrLMWXQ0",
        "colab_type": "code",
        "cellView": "form",
        "colab": {}
      },
      "source": [
        "#@title Path settings\n",
        "\n",
        "demucs_drums = '/output/demucs/demucs/file/drums.mp3'\n",
        "spleeter_drums = '/output/spleeter/file/drums.mp3'\n",
        "drums = [demucs_drums, spleeter_drums]\n",
        "\n",
        "demucs_bass = '/output/demucs/demucs/file/bass.mp3'\n",
        "spleeter_bass = '/output/spleeter/file/bass.mp3'\n",
        "bass = [demucs_bass, spleeter_bass]\n",
        "\n",
        "demucs_vocals = '/output/demucs/demucs/file/vocals.mp3'\n",
        "spleeter_vocals = '/output/spleeter/file/vocals.mp3'\n",
        "vocals = [demucs_vocals, spleeter_vocals]\n",
        "\n",
        "demucs_other = '/output/demucs/demucs/file/other.mp3'\n",
        "spleeter_other = '/output/spleeter/file/other.mp3'\n",
        "other = [demucs_other, spleeter_other]"
      ],
      "execution_count": 0,
      "outputs": []
    },
    {
      "cell_type": "code",
      "metadata": {
        "id": "TD2nKhZQX7QR",
        "colab_type": "code",
        "cellView": "form",
        "colab": {}
      },
      "source": [
        "#@title Play Song\n",
        "\n",
        "import IPython.display as ipd\n",
        "\n",
        "ipd.display(ipd.Audio('/content/file.mp3'))\n"
      ],
      "execution_count": 0,
      "outputs": []
    },
    {
      "cell_type": "code",
      "metadata": {
        "id": "P2JtFodjSDqd",
        "colab_type": "code",
        "cellView": "form",
        "colab": {}
      },
      "source": [
        "#@title Drums Audios\n",
        " \n",
        "print('demucs drums')\n",
        "ipd.display(ipd.Audio(demucs_drums))\n",
        "print('spleeter drums')\n",
        "ipd.display(ipd.Audio(spleeter_drums))\n"
      ],
      "execution_count": 0,
      "outputs": []
    },
    {
      "cell_type": "code",
      "metadata": {
        "id": "izG9fvudYRh7",
        "colab_type": "code",
        "cellView": "form",
        "colab": {}
      },
      "source": [
        "#@title Bass Audios\n",
        "print('demucs bass')\n",
        "ipd.display(ipd.Audio(demucs_bass))\n",
        "print('spleeter bass')\n",
        "ipd.display(ipd.Audio(spleeter_bass))"
      ],
      "execution_count": 0,
      "outputs": []
    },
    {
      "cell_type": "code",
      "metadata": {
        "id": "RmUFIu6rYXl5",
        "colab_type": "code",
        "cellView": "form",
        "colab": {}
      },
      "source": [
        "#@title Vocals Audios\n",
        "\n",
        "print('demucs vocals')\n",
        "ipd.display(ipd.Audio(demucs_vocals))\n",
        "print('spleeter vocals')\n",
        "ipd.display(ipd.Audio(spleeter_vocals))"
      ],
      "execution_count": 0,
      "outputs": []
    },
    {
      "cell_type": "code",
      "metadata": {
        "id": "K9GSdwVvYZCy",
        "colab_type": "code",
        "cellView": "form",
        "colab": {}
      },
      "source": [
        "#@title Other Audios\n",
        "\n",
        "print('demucs other')\n",
        "ipd.display(ipd.Audio(demucs_other))\n",
        "print('spleeter other')\n",
        "ipd.display(ipd.Audio(spleeter_other))"
      ],
      "execution_count": 0,
      "outputs": []
    },
    {
      "cell_type": "code",
      "metadata": {
        "id": "o2cx8oH6k4Jj",
        "colab_type": "code",
        "cellView": "form",
        "colab": {}
      },
      "source": [
        "#@title Download Files - zip (optional)\n",
        "\n",
        "!zip -r output.zip /output/\n",
        "\n",
        "from google.colab import files\n",
        "files.download(\"output.zip\")"
      ],
      "execution_count": 0,
      "outputs": []
    },
    {
      "cell_type": "markdown",
      "metadata": {
        "id": "XXaOG9iabajq",
        "colab_type": "text"
      },
      "source": [
        "### REFERENCES\n",
        "\n",
        "* Audio Source Separation (Signals and Communication Technology) (English Edition) 1st ed. 2018 Edition"
      ]
    },
    {
      "cell_type": "markdown",
      "metadata": {
        "id": "iuA-7ipNbeVx",
        "colab_type": "text"
      },
      "source": [
        "![+picture](https://drive.google.com/uc?id=1XlftDMj2RK7cLzQ82jR1UxlEgyFszN1F)"
      ]
    },
    {
      "cell_type": "markdown",
      "metadata": {
        "id": "dfOwx371dzv-",
        "colab_type": "text"
      },
      "source": [
        "Copyright 2020 Google LLC.\n",
        "\n",
        "Licensed under the Apache License, Version 2.0 (the \"License\");\n",
        "you may not use this file except in compliance with the License.\n",
        "You may obtain a copy of the License at\n",
        "\n",
        "    http://www.apache.org/licenses/LICENSE-2.0\n",
        "\n",
        "Unless required by applicable law or agreed to in writing, software\n",
        "distributed under the License is distributed on an \"AS IS\" BASIS,\n",
        "WITHOUT WARRANTIES OR CONDITIONS OF ANY KIND, either express or implied.\n",
        "See the License for the specific language governing permissions and\n",
        "limitations under the License."
      ]
    },
    {
      "cell_type": "markdown",
      "metadata": {
        "id": "3CLWBOKwbnwI",
        "colab_type": "text"
      },
      "source": [
        "## <a name=\"onset-detection\"></a>ONSET DETECTION\n",
        "\n",
        "Now, once we have the sources separated we will obtain the midis associated to each source. \n",
        "\n",
        "Note: As the source separation is not perfect, there will be noise which will make te midis not so accurate.\n",
        "\n",
        "![+picture](https://drive.google.com/uc?id=19OePa3uu_Envewr-IGKhCf_w7SdZRJew)\n",
        "\n",
        "### <a name=\"magenta-onsets\"></a>MAGENTA ONSET AND FRAMES - Polyphonic piano music transcription\n",
        "\n",
        "Convert raw recordings of solo piano performances into MIDI files.\n",
        "\n",
        "[[Website]](https://magenta.tensorflow.org/onsets-frames) [[GoogleColab]](https://colab.research.google.com/notebooks/magenta/onsets_frames_transcription/onsets_frames_transcription.ipynb) [[Github]](https://github.com/tensorflow/magenta/tree/master/magenta/models/onsets_frames_transcription)\n",
        "\n",
        "![picture](https://drive.google.com/uc?id=1ZGzonTSZN1pRWn497h_nqQv5_QklMEEH)"
      ]
    },
    {
      "cell_type": "markdown",
      "metadata": {
        "id": "ezqmFutJb3x-",
        "colab_type": "text"
      },
      "source": [
        "We have to obtain a midi file from each separated source, so we will have drums.wav, drums.wav.midi,..."
      ]
    },
    {
      "cell_type": "code",
      "metadata": {
        "id": "R0kPI4p1Gv4P",
        "colab_type": "code",
        "colab": {},
        "cellView": "form"
      },
      "source": [
        "#@title Parent Directory\n",
        "!cd .."
      ],
      "execution_count": 0,
      "outputs": []
    },
    {
      "cell_type": "code",
      "metadata": {
        "id": "Tn00fohZd9vk",
        "colab_type": "code",
        "cellView": "form",
        "colab": {}
      },
      "source": [
        "#@title Setup Environment\n",
        "%tensorflow_version 1.x\n",
        "\n",
        "import glob\n",
        "\n",
        "print('Copying checkpoints from GCS...')\n",
        "!rm -r /content/onsets-frames\n",
        "!mkdir /content/onsets-frames\n",
        "!gsutil -q -m cp -R gs://magentadata/models/onsets_frames_transcription/*checkpoint*.zip /content/onsets-frames/\n",
        "!unzip -o /content/onsets-frames/maestro_checkpoint.zip -d /content/onsets-frames/maestro\n",
        "MAESTRO_CHECKPOINT_DIR = '/content/onsets-frames/maestro/train'\n",
        "!unzip -o /content/onsets-frames/e-gmd_checkpoint.zip -d /content/onsets-frames/e-gmd\n",
        "EGMD_CHECKPOINT_DIR = '/content/onsets-frames/e-gmd'\n",
        "  \n",
        "print('Installing dependencies...')\n",
        "!apt-get update -qq && apt-get install -qq libfluidsynth1 fluid-soundfont-gm build-essential libasound2-dev libjack-dev ffmpeg  \n",
        "!pip install pyfluidsynth pretty_midi\n",
        "\n",
        "if glob.glob('/content/onsets-frames/magenta*.whl'):\n",
        "  !pip install -q /content/onsets-frames/magenta*.whl\n",
        "else:\n",
        "  !pip install -qU magenta\n",
        "\n",
        "# Hack to allow python to pick up the newly-installed fluidsynth lib. \n",
        "# This is only needed for the hosted Colab environment.\n",
        "import ctypes.util\n",
        "orig_ctypes_util_find_library = ctypes.util.find_library\n",
        "def proxy_find_library(lib):\n",
        "  if lib == 'fluidsynth':\n",
        "    return 'libfluidsynth.so.1'\n",
        "  else:\n",
        "    return orig_ctypes_util_find_library(lib)\n",
        "ctypes.util.find_library = proxy_find_library"
      ],
      "execution_count": 0,
      "outputs": []
    },
    {
      "cell_type": "code",
      "metadata": {
        "id": "rj5MRSbncEDs",
        "colab_type": "code",
        "cellView": "form",
        "colab": {}
      },
      "source": [
        "#@title Convert SPLEETER DRUMS to midi with E-GMD checkpoint (this model is only for drums transcription)\n",
        "\n",
        "!MODEL_DIR=\"/content/onsets_frames_transcription/checkpoints/E-GMD\"\n",
        "!onsets_frames_transcription_transcribe \\\n",
        "  --model_dir=\"${MODEL_DIR}\" \\\n",
        "  --config=\"drums\" \\\n",
        "  output/spleeter/file/drums.wav"
      ],
      "execution_count": 0,
      "outputs": []
    },
    {
      "cell_type": "code",
      "metadata": {
        "id": "YTqKez76cH0S",
        "colab_type": "code",
        "cellView": "form",
        "colab": {}
      },
      "source": [
        "#@title Convert SPLEETER BASS to midi with MAESTRO checkpoint\n",
        "\n",
        "!MODEL_DIR=\"/content/onsets_frames_transcription/checkpoints/MAESTRO\"\n",
        "!onsets_frames_transcription_transcribe \\\n",
        "  --model_dir=\"${MODEL_DIR}\" \\\n",
        "  --hparams=use_cudnn=false \\\n",
        "  output/spleeter/file/bass.wav"
      ],
      "execution_count": 0,
      "outputs": []
    },
    {
      "cell_type": "code",
      "metadata": {
        "id": "Y_SLZxokeg0T",
        "colab_type": "code",
        "cellView": "form",
        "colab": {}
      },
      "source": [
        "#@title Convert SPLEETER VOCALS to midi with MAESTRO checkpoint\n",
        "\n",
        "!MODEL_DIR=\"/content/onsets_frames_transcription/checkpoints/MAESTRO\"\n",
        "!onsets_frames_transcription_transcribe \\\n",
        "  --model_dir=\"${MODEL_DIR}\" \\\n",
        "  --hparams=use_cudnn=false \\\n",
        "  output/spleeter/file/vocals.wav"
      ],
      "execution_count": 0,
      "outputs": []
    },
    {
      "cell_type": "code",
      "metadata": {
        "id": "mkyrOaCqei33",
        "colab_type": "code",
        "cellView": "form",
        "colab": {}
      },
      "source": [
        "#@title Convert SPLEETER OTHER to midi with MAESTRO checkpoint\n",
        "\n",
        "!MODEL_DIR=\"/content/onsets_frames_transcription/checkpoints/MAESTRO\"\n",
        "!onsets_frames_transcription_transcribe \\\n",
        "  --model_dir=\"${MODEL_DIR}\" \\\n",
        "  --hparams=use_cudnn=false \\\n",
        "  output/spleeter/file/other.wav"
      ],
      "execution_count": 0,
      "outputs": []
    },
    {
      "cell_type": "code",
      "metadata": {
        "id": "5-W-GJqgflg6",
        "colab_type": "code",
        "cellView": "form",
        "colab": {}
      },
      "source": [
        "#@title General function to plot piano-roll representation + midi and wav comparation\n",
        "import bokeh \n",
        "import magenta.music as mm\n",
        "\n",
        "def compare_wav_and_midi(separated_souce, spleeter_wav, demucs_wav):\n",
        "    \n",
        "    print(\"================================SPLEETER=========================================\")\n",
        "    file_spleeter = 'output/spleeter/file/' + separated_source + \".wav.midi\"\n",
        "\n",
        "    note_seq_spleeter = mm.midi_file_to_sequence_proto(file_spleeter)\n",
        "\n",
        "    # This is a colab utility method that visualizes a NoteSequence.\n",
        "    fig = mm.plot_sequence(note_seq_spleeter, show_figure=False)\n",
        "    fig.plot_width = 8000\n",
        "    fig.plot_height = 200\n",
        "    bokeh.plotting.output_notebook()\n",
        "    bokeh.plotting.show(fig)\n",
        "\n",
        "    # This is a colab utility method that plays a NoteSequence.\n",
        "    print('spleeter', separated_souce ,'midi')\n",
        "    mm.play_sequence(note_seq_spleeter,synth=mm.fluidsynth)\n",
        "\n",
        "    print('spleeter', separated_souce ,'wav')\n",
        "    ipd.display(ipd.Audio(spleeter_wav))\n",
        "\n",
        "    \n",
        "    print(\"=====================================DEMUCS=======================================\")\n",
        "    file_demucs = 'output/spleeter/file/' + separated_source + \".wav.midi\"\n",
        "\n",
        "    note_seq_demucs = mm.midi_file_to_sequence_proto(file_demucs)\n",
        "\n",
        "    # This is a colab utility method that visualizes a NoteSequence.\n",
        "    fig = mm.plot_sequence(note_seq_demucs, show_figure=False)\n",
        "    fig.plot_width = 8000\n",
        "    fig.plot_height = 200\n",
        "    bokeh.plotting.output_notebook()\n",
        "    bokeh.plotting.show(fig)\n",
        "\n",
        "    # This is a colab utility method that plays a NoteSequence.\n",
        "    print('demucs', separated_souce ,'midi')\n",
        "    mm.play_sequence(note_seq_demucs,synth=mm.fluidsynth)\n",
        "\n",
        "    print('demucs', separated_souce ,'wav')\n",
        "    ipd.display(ipd.Audio(demucs_wav))\n",
        "    \n",
        "    return"
      ],
      "execution_count": 0,
      "outputs": []
    },
    {
      "cell_type": "code",
      "metadata": {
        "id": "yVquDxD-gDff",
        "colab_type": "code",
        "cellView": "form",
        "colab": {}
      },
      "source": [
        "#@title \"Drums\" midi vs audio | spleeter vs demucs\n",
        "\n",
        "separated_source = \"drums\"\n",
        "spleeter_wav = spleeter_drums\n",
        "demucs_wav = demucs_drums\n",
        "compare_wav_and_midi(separated_source, spleeter_wav, demucs_wav)"
      ],
      "execution_count": 0,
      "outputs": []
    },
    {
      "cell_type": "code",
      "metadata": {
        "id": "6lyo43j6fxuz",
        "colab_type": "code",
        "cellView": "form",
        "colab": {}
      },
      "source": [
        "#@title \"Bass\" midi vs audio | spleeter vs demucs\n",
        "\n",
        "separated_source = \"bass\"\n",
        "spleeter_wav = spleeter_bass\n",
        "demucs_wav = demucs_bass\n",
        "compare_wav_and_midi(separated_source, spleeter_wav, demucs_wav)"
      ],
      "execution_count": 0,
      "outputs": []
    },
    {
      "cell_type": "code",
      "metadata": {
        "id": "BdXrNZdGh-78",
        "colab_type": "code",
        "cellView": "form",
        "colab": {}
      },
      "source": [
        "#@title \"Vocals\" midi vs audio | spleeter vs demucs\n",
        "\n",
        "separated_source = \"vocals\"\n",
        "spleeter_wav = spleeter_vocals\n",
        "demucs_wav = demucs_vocals\n",
        "compare_wav_and_midi(separated_source, spleeter_wav, demucs_wav)"
      ],
      "execution_count": 0,
      "outputs": []
    },
    {
      "cell_type": "code",
      "metadata": {
        "id": "kYi5k5mkiBJN",
        "colab_type": "code",
        "cellView": "form",
        "colab": {}
      },
      "source": [
        "#@title \"Other\" midi vs audio | spleeter vs demucs\n",
        "\n",
        "separated_source = \"other\"\n",
        "spleeter_wav = spleeter_other\n",
        "demucs_wav = demucs_other\n",
        "compare_wav_and_midi(separated_source, spleeter_wav, demucs_wav)"
      ],
      "execution_count": 0,
      "outputs": []
    },
    {
      "cell_type": "markdown",
      "metadata": {
        "id": "bKP5e9fa7k4U",
        "colab_type": "text"
      },
      "source": [
        "..................................."
      ]
    },
    {
      "cell_type": "code",
      "metadata": {
        "id": "Un2R4pB6SZLo",
        "colab_type": "code",
        "cellView": "form",
        "colab": {}
      },
      "source": [
        "#@title Setup Environment\n",
        "%tensorflow_version 1.x\n",
        "\n",
        "import glob\n",
        "\n",
        "print('Copying checkpoints from GCS...')\n",
        "!rm -r /content/onsets-frames\n",
        "!mkdir /content/onsets-frames\n",
        "!gsutil -q -m cp -R gs://magentadata/models/onsets_frames_transcription/*checkpoint*.zip /content/onsets-frames/\n",
        "!unzip -o /content/onsets-frames/maestro_checkpoint.zip -d /content/onsets-frames/maestro\n",
        "MAESTRO_CHECKPOINT_DIR = '/content/onsets-frames/maestro/train'\n",
        "!unzip -o /content/onsets-frames/e-gmd_checkpoint.zip -d /content/onsets-frames/e-gmd\n",
        "EGMD_CHECKPOINT_DIR = '/content/onsets-frames/e-gmd'\n",
        "  \n",
        "print('Installing dependencies...')\n",
        "!apt-get update -qq && apt-get install -qq libfluidsynth1 fluid-soundfont-gm build-essential libasound2-dev libjack-dev ffmpeg  \n",
        "!pip install pyfluidsynth pretty_midi\n",
        "\n",
        "if glob.glob('/content/onsets-frames/magenta*.whl'):\n",
        "  !pip install -q /content/onsets-frames/magenta*.whl\n",
        "else:\n",
        "  !pip install -qU magenta\n",
        "\n",
        "# Hack to allow python to pick up the newly-installed fluidsynth lib. \n",
        "# This is only needed for the hosted Colab environment.\n",
        "import ctypes.util\n",
        "orig_ctypes_util_find_library = ctypes.util.find_library\n",
        "def proxy_find_library(lib):\n",
        "  if lib == 'fluidsynth':\n",
        "    return 'libfluidsynth.so.1'\n",
        "  else:\n",
        "    return orig_ctypes_util_find_library(lib)\n",
        "ctypes.util.find_library = proxy_find_library"
      ],
      "execution_count": 0,
      "outputs": []
    },
    {
      "cell_type": "code",
      "metadata": {
        "id": "aS-lwJ66SHyk",
        "colab_type": "code",
        "cellView": "form",
        "colab": {}
      },
      "source": [
        "#@title Initialize Models\n",
        "\n",
        "import tensorflow.compat.v1 as tf\n",
        "import librosa\n",
        "import numpy as np\n",
        "\n",
        "from google.colab import files\n",
        "\n",
        "from magenta.common import tf_utils\n",
        "from magenta.music import audio_io\n",
        "import magenta.music as mm\n",
        "from magenta.models.onsets_frames_transcription import audio_label_data_utils\n",
        "from magenta.models.onsets_frames_transcription import configs\n",
        "from magenta.models.onsets_frames_transcription import constants\n",
        "from magenta.models.onsets_frames_transcription import data\n",
        "from magenta.models.onsets_frames_transcription import infer_util\n",
        "from magenta.models.onsets_frames_transcription import train_util\n",
        "from magenta.music import midi_io\n",
        "from magenta.music.protobuf import music_pb2\n",
        "from magenta.music import sequences_lib"
      ],
      "execution_count": 0,
      "outputs": []
    },
    {
      "cell_type": "code",
      "metadata": {
        "id": "R6zagzbrRjbH",
        "colab_type": "code",
        "cellView": "form",
        "colab": {}
      },
      "source": [
        "#@title Midis Generation\n",
        "import magenta \n",
        "\n",
        "!MODEL_DIR=\"/content/onsets_frames_transcription/checkpoints/E-GMD\"\n",
        "!onsets_frames_transcription_transcribe \\\n",
        "  --model_dir=\"${MODEL_DIR}\" \\\n",
        "  --config=\"drums\" \\\n",
        "  output/demucs/file/drums.wav\n",
        "\n",
        "!MODEL_DIR=\"/content/onsets_frames_transcription/checkpoints/E-GMD\"\n",
        "!onsets_frames_transcription_transcribe \\\n",
        "  --model_dir=\"${MODEL_DIR}\" \\\n",
        "  --config=\"drums\" \\\n",
        "  output/spleeter/file/drums.wav\n",
        "\n",
        "\n",
        "!MODEL_DIR=\"/content/onsets_frames_transcription/checkpoints/MAESTRO\"\n",
        "!onsets_frames_transcription_transcribe \\\n",
        "  --model_dir=\"${MODEL_DIR}\" \\\n",
        "  --hparams=use_cudnn=false \\\n",
        "  output/demucs/file/bass.wav\n",
        "\n",
        "!MODEL_DIR=\"/content/onsets_frames_transcription/checkpoints/MAESTRO\"\n",
        "!onsets_frames_transcription_transcribe \\\n",
        "  --model_dir=\"${MODEL_DIR}\" \\\n",
        "  --hparams=use_cudnn=false \\\n",
        "  output/spleeter/file/bass.wav\n",
        "\n",
        "!MODEL_DIR=\"/content/onsets_frames_transcription/checkpoints/MAESTRO\"\n",
        "!onsets_frames_transcription_transcribe \\\n",
        "  --model_dir=\"${MODEL_DIR}\" \\\n",
        "  --hparams=use_cudnn=false \\\n",
        "  output/demucs/file/vocals.wav\n",
        "\n",
        "!MODEL_DIR=\"/content/onsets_frames_transcription/checkpoints/MAESTRO\"\n",
        "!onsets_frames_transcription_transcribe \\\n",
        "  --model_dir=\"${MODEL_DIR}\" \\\n",
        "  --hparams=use_cudnn=false \\\n",
        "  output/spleeter/file/vocals.wav\n",
        "\n",
        "!MODEL_DIR=\"/content/onsets_frames_transcription/checkpoints/MAESTRO\"\n",
        "!onsets_frames_transcription_transcribe \\\n",
        "  --model_dir=\"${MODEL_DIR}\" \\\n",
        "  --hparams=use_cudnn=false \\\n",
        "  output/demucs/file/other.wav\n",
        "\n",
        "!MODEL_DIR=\"/content/onsets_frames_transcription/checkpoints/MAESTRO\"\n",
        "!onsets_frames_transcription_transcribe \\\n",
        "  --model_dir=\"${MODEL_DIR}\" \\\n",
        "  --hparams=use_cudnn=false \\\n",
        "  output/spleeter/file/other.wav"
      ],
      "execution_count": 0,
      "outputs": []
    },
    {
      "cell_type": "code",
      "metadata": {
        "id": "1W1Wm91ISPky",
        "colab_type": "code",
        "cellView": "form",
        "colab": {}
      },
      "source": [
        "#@title Initialize Plots\n",
        "\n",
        "import bokeh \n",
        "import magenta.music as mm\n",
        "\n",
        "def compare_wav_and_midi(separated_souce, spleeter_wav, demucs_wav):\n",
        "    \n",
        "    print(\"================================SPLEETER=========================================\")\n",
        "    file_spleeter = 'output/spleeter/file/' + separated_source + \".wav.midi\"\n",
        "\n",
        "    note_seq_spleeter = mm.midi_file_to_sequence_proto(file_spleeter)\n",
        "\n",
        "    # This is a colab utility method that visualizes a NoteSequence.\n",
        "    fig = mm.plot_sequence(note_seq_spleeter, show_figure=False)\n",
        "    fig.plot_width = 8000\n",
        "    fig.plot_height = 200\n",
        "    bokeh.plotting.output_notebook()\n",
        "    bokeh.plotting.show(fig)\n",
        "\n",
        "    # This is a colab utility method that plays a NoteSequence.\n",
        "    print('spleeter', separated_souce ,'midi')\n",
        "    mm.play_sequence(note_seq_spleeter,synth=mm.fluidsynth)\n",
        "\n",
        "    print('spleeter', separated_souce ,'wav')\n",
        "    ipd.display(ipd.Audio(spleeter_wav))\n",
        "\n",
        "    \n",
        "    print(\"=====================================DEMUCS=======================================\")\n",
        "    file_demucs = 'output/demucs/file/' + separated_source + \".wav.midi\"\n",
        "\n",
        "    note_seq_demucs = mm.midi_file_to_sequence_proto(file_demucs)\n",
        "\n",
        "    # This is a colab utility method that visualizes a NoteSequence.\n",
        "    fig = mm.plot_sequence(note_seq_demucs, show_figure=False)\n",
        "    fig.plot_width = 8000\n",
        "    fig.plot_height = 200\n",
        "    bokeh.plotting.output_notebook()\n",
        "    bokeh.plotting.show(fig)\n",
        "\n",
        "    # This is a colab utility method that plays a NoteSequence.\n",
        "    print('demucs', separated_souce ,'midi')\n",
        "    mm.play_sequence(note_seq_demucs,synth=mm.fluidsynth)\n",
        "\n",
        "    print('demucs', separated_souce ,'wav')\n",
        "    ipd.display(ipd.Audio(demucs_wav))\n",
        "    \n",
        "    return"
      ],
      "execution_count": 0,
      "outputs": []
    },
    {
      "cell_type": "code",
      "metadata": {
        "id": "FTIrFhB29TMx",
        "colab_type": "code",
        "cellView": "form",
        "colab": {}
      },
      "source": [
        "#@title Select Source\n",
        "source = \"drums\" #@param [\"drums\", \"vocals\", \"other\", \"drums\"]\n"
      ],
      "execution_count": 0,
      "outputs": []
    },
    {
      "cell_type": "code",
      "metadata": {
        "id": "-ZDZUhFt799p",
        "colab_type": "code",
        "cellView": "form",
        "colab": {}
      },
      "source": [
        "#@title Midis vs Audios | Spleeter vs Demucs\n",
        "\n",
        "if source.startswith('drums'):\n",
        "  separated_source = \"drums\"\n",
        "  spleeter_wav = spleeter_drums\n",
        "  demucs_wav = demucs_drums\n",
        "  compare_wav_and_midi(separated_source, spleeter_wav, demucs_wav)\n",
        "elif source.startswith('bass'):\n",
        "  separated_source = \"bass\"\n",
        "  spleeter_wav = spleeter_bass\n",
        "  demucs_wav = demucs_bass\n",
        "  compare_wav_and_midi(separated_source, spleeter_wav, demucs_wav)\n",
        "elif source.startswith('vocals'):\n",
        "  separated_source = \"vocals\"\n",
        "  spleeter_wav = spleeter_vocals\n",
        "  demucs_wav = demucs_vocals\n",
        "  compare_wav_and_midi(separated_source, spleeter_wav, demucs_wav)\n",
        "elif source.startswith('other'):\n",
        "  separated_source = \"other\"\n",
        "  spleeter_wav = spleeter_other\n",
        "  demucs_wav = demucs_other\n",
        "  compare_wav_and_midi(separated_source, spleeter_wav, demucs_wav)"
      ],
      "execution_count": 0,
      "outputs": []
    }
  ]
}
