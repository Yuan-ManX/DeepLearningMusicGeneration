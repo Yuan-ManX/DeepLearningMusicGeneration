{
  "nbformat": 4,
  "nbformat_minor": 0,
  "metadata": {
    "colab": {
      "name": "SourcesSeparationComparation_and_WavToMidi_v2.ipynb",
      "provenance": [],
      "collapsed_sections": [],
      "authorship_tag": "ABX9TyOOJjwdCIKt5EpQcdB7W5UE"
    },
    "kernelspec": {
      "name": "python3",
      "display_name": "Python 3"
    }
  },
  "cells": [
    {
      "cell_type": "markdown",
      "metadata": {
        "id": "WQ-sIaqlv-j1",
        "colab_type": "text"
      },
      "source": [
        "Copyright 2020 Carlos Hernández Oliván.\n",
        "\n",
        "Licensed under the Apache License, Version 2.0 (the \"License\"); you may not use this file except in compliance with the License. You may obtain a copy of the License at\n",
        "\n",
        "https://www.apache.org/licenses/LICENSE-2.0\n",
        "\n",
        "Unless required by applicable law or agreed to in writing, software distributed under the License is distributed on an \"AS IS\" BASIS, WITHOUT WARRANTIES OR CONDITIONS OF ANY KIND, either express or implied. See the License for the specific language governing permissions and limitations under the License."
      ]
    },
    {
      "cell_type": "markdown",
      "metadata": {
        "id": "4Pq7Gww6vqlr",
        "colab_type": "text"
      },
      "source": [
        "[![Open In Colab](https://colab.research.google.com/assets/colab-badge.svg)](https://colab.research.google.com/github/calosholivan/AIMusicGeneration/colab_notebooks/SourcesSeparationComparation_and_WavToMidi_v2.ipynb)"
      ]
    },
    {
      "cell_type": "markdown",
      "metadata": {
        "id": "I8rnd8fHwD4h",
        "colab_type": "text"
      },
      "source": [
        "![picture](https://www.clubexcelencia.org/sites/default/files/fotos/images/noticias/visionarios/universidadzaragoza01.jpg)\n",
        "\n",
        "# WAV TO MIDI\n",
        "\n",
        "\n",
        "Author: Carlos Hernández [Github](https://github.com/carlosholivan)\n",
        "\n",
        "Department of Electronic Engineering and Communications, Universidad de Zaragoza, Calle María de Luna 3, 50018 Zaragoza\n",
        "\n",
        "This notebook provides a comparation between 2 sources separation libraries, demucs from facebook and spleeter by deezer. \n",
        "\n",
        "WARNING: Uploaded file **must** be a .mp3 file. In spite of the extension change in the code, all the files obtained will be .mp3 quality."
      ]
    },
    {
      "cell_type": "markdown",
      "metadata": {
        "id": "L4QpRj5E2aB9",
        "colab_type": "text"
      },
      "source": [
        "INSTRUCTIONS:\n",
        "\n",
        "Run every cell in the notebook **in order**. Cells with \"(optional)\" are not compulsory to run them."
      ]
    },
    {
      "cell_type": "markdown",
      "metadata": {
        "id": "ekAMIOtVQXGk",
        "colab_type": "text"
      },
      "source": [
        "\n",
        "![picture](https://drive.google.com/uc?id=17qBD02Te8vg04v7z4QWZydZchTQ8S8vr)\n",
        "\n",
        "## Table of contents\n",
        "\n",
        "1. [Sources Separation](#sources-separation)\n",
        "  * [DEMUCS by Facebook](#demucs-by-facebook)\n",
        "  * [SPLEETER by Deezer](#spleeter-by-deezer)\n",
        "  * [SPLEETER vs DEMUCS](#spleeter-vs-demucs)\n",
        "2. [Onset Detection](#onset-detection)  \n",
        "  * [MAGENTA ONSET AND FRAMES - Polyphonic piano music transcription](#magenta-onsets)"
      ]
    },
    {
      "cell_type": "code",
      "metadata": {
        "id": "oO3GvsD8Sp8s",
        "colab_type": "code",
        "cellView": "form",
        "outputId": "043a924c-48d1-4839-8487-475a85f146db",
        "colab": {
          "resources": {
            "http://localhost:8080/nbextensions/google.colab/files.js": {
              "data": "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",
              "ok": true,
              "headers": [
                [
                  "content-type",
                  "application/javascript"
                ]
              ],
              "status": 200,
              "status_text": "OK"
            }
          },
          "base_uri": "https://localhost:8080/",
          "height": 83
        }
      },
      "source": [
        "#@title Upload Audio File (mp3 or wav)\n",
        "\n",
        "from google.colab import files\n",
        "uploaded = files.upload()\n"
      ],
      "execution_count": 0,
      "outputs": [
        {
          "output_type": "display_data",
          "data": {
            "text/html": [
              "\n",
              "     <input type=\"file\" id=\"files-fda39280-6d5b-42c2-98a5-03f86f09537a\" name=\"files[]\" multiple disabled />\n",
              "     <output id=\"result-fda39280-6d5b-42c2-98a5-03f86f09537a\">\n",
              "      Upload widget is only available when the cell has been executed in the\n",
              "      current browser session. Please rerun this cell to enable.\n",
              "      </output>\n",
              "      <script src=\"/nbextensions/google.colab/files.js\"></script> "
            ],
            "text/plain": [
              "<IPython.core.display.HTML object>"
            ]
          },
          "metadata": {
            "tags": []
          }
        },
        {
          "output_type": "stream",
          "text": [
            "Saving Clouds_20By_20Nagra_20Beats.mp3 to Clouds_20By_20Nagra_20Beats.mp3\n"
          ],
          "name": "stdout"
        }
      ]
    },
    {
      "cell_type": "code",
      "metadata": {
        "id": "aIYEZ51HfQBL",
        "colab_type": "code",
        "cellView": "form",
        "outputId": "f51a110e-c4e6-429a-c042-c4f82e0ac054",
        "colab": {
          "base_uri": "https://localhost:8080/",
          "height": 34
        }
      },
      "source": [
        "#@title Rewrite file name\n",
        "import os\n",
        "\n",
        "for name, data in uploaded.items():\n",
        "  with open(name, 'wb') as f:\n",
        "    f.write(data)\n",
        "    os.rename(f.name, 'file.mp3')\n",
        "    print ('saved file with name:', name)"
      ],
      "execution_count": 0,
      "outputs": [
        {
          "output_type": "stream",
          "text": [
            "saved file with name: Clouds_20By_20Nagra_20Beats.mp3\n"
          ],
          "name": "stdout"
        }
      ]
    },
    {
      "cell_type": "markdown",
      "metadata": {
        "id": "7t9yG_rxFcB9",
        "colab_type": "text"
      },
      "source": [
        "## <a name=\"sources-separation\"></a>SOURCES SEPARATION \n",
        "\n",
        "![picture](https://www.researchgate.net/profile/Thanh_Duong11/publication/335339440/figure/fig2/AS:794976699047936@1566548623211/Audio-source-separation.ppm)"
      ]
    },
    {
      "cell_type": "markdown",
      "metadata": {
        "id": "r_fLAuHVF-2X",
        "colab_type": "text"
      },
      "source": [
        "### <a name=\"demucs-by-facebook\"></a>DEMUCS by Facebook\n",
        "\n",
        "It separates 4 sources: DRUMS, BASS, VOCALS and \"OTHERS\"\n",
        "\n",
        "Dataset : MusDB [[Website]](https://sigsep.github.io/datasets/musdb.html#musdb18-compressed-stems)\n",
        "\n",
        "Architecture: encoder/decoder compoased of a convolutional encoder, a bidirectional LSTM and a convolutional decoder. The encoder and decoder are linked with skip U-Net connections.\n",
        "\n",
        "![picture](https://techdroy.com/wp-content/uploads/2019/12/demucs-inteligencia-artificial-separa-canciones-pistas-scaled.png.webp)\n",
        "\n",
        "[[Github]](https://github.com/facebookresearch/demucs) [[Paper]](https://hal.archives-ouvertes.fr/hal-02379796/document)"
      ]
    },
    {
      "cell_type": "code",
      "metadata": {
        "id": "gT3sOELijHN7",
        "colab_type": "code",
        "cellView": "form",
        "colab": {}
      },
      "source": [
        "#@title Anaconda Download\n",
        "\n",
        "!wget -c https://repo.continuum.io/archive/Anaconda3-5.1.0-Linux-x86_64.sh"
      ],
      "execution_count": 0,
      "outputs": []
    },
    {
      "cell_type": "code",
      "metadata": {
        "id": "NyLLsdEtxn_M",
        "colab_type": "code",
        "cellView": "form",
        "colab": {}
      },
      "source": [
        "#@title Permises\n",
        "\n",
        "!chmod +x Anaconda3-5.1.0-Linux-x86_64.sh"
      ],
      "execution_count": 0,
      "outputs": []
    },
    {
      "cell_type": "code",
      "metadata": {
        "id": "9KrckUQ7xrMo",
        "colab_type": "code",
        "cellView": "form",
        "colab": {}
      },
      "source": [
        "#@title Anaconda Path\n",
        "\n",
        "!bash ./Anaconda3-5.1.0-Linux-x86_64.sh -b -f -p /usr/local"
      ],
      "execution_count": 0,
      "outputs": []
    },
    {
      "cell_type": "code",
      "metadata": {
        "id": "zs70cx-XxvlI",
        "colab_type": "code",
        "cellView": "form",
        "colab": {}
      },
      "source": [
        "#@title Demucs Download\n",
        "import sys\n",
        "sys.path.append('/usr/local/lib/python3.7/site-packages/')\n",
        "\n",
        "!git clone https://github.com/facebookresearch/demucs"
      ],
      "execution_count": 0,
      "outputs": []
    },
    {
      "cell_type": "code",
      "metadata": {
        "id": "7S2V5dVHxwJc",
        "colab_type": "code",
        "cellView": "form",
        "colab": {}
      },
      "source": [
        "#@title Go to Demucs Path\n",
        "\n",
        "os.chdir('demucs')"
      ],
      "execution_count": 0,
      "outputs": []
    },
    {
      "cell_type": "code",
      "metadata": {
        "id": "v3pCF7MxxyMJ",
        "colab_type": "code",
        "cellView": "form",
        "colab": {}
      },
      "source": [
        "#@title Conda Update\n",
        "\n",
        "!conda update -n base conda"
      ],
      "execution_count": 0,
      "outputs": []
    },
    {
      "cell_type": "code",
      "metadata": {
        "id": "mb_77hKv6Z-G",
        "colab_type": "code",
        "cellView": "form",
        "colab": {}
      },
      "source": [
        "#@title Demucs Model Download\n",
        "!conda env update -f environment-cpu.yml"
      ],
      "execution_count": 0,
      "outputs": []
    },
    {
      "cell_type": "code",
      "metadata": {
        "id": "rxIdZmlWx5dz",
        "colab_type": "code",
        "cellView": "form",
        "colab": {}
      },
      "source": [
        "#@title Conda init\n",
        "\n",
        "!conda init bash"
      ],
      "execution_count": 0,
      "outputs": []
    },
    {
      "cell_type": "code",
      "metadata": {
        "id": "6LbvzNkkHQV9",
        "colab_type": "code",
        "cellView": "form",
        "colab": {}
      },
      "source": [
        "#@title Demucs Activation\n",
        "!conda activate demucs\n"
      ],
      "execution_count": 0,
      "outputs": []
    },
    {
      "cell_type": "code",
      "metadata": {
        "id": "ZdKQm7Wfx_Gg",
        "colab_type": "code",
        "cellView": "form",
        "colab": {}
      },
      "source": [
        "#@title Install Pytorch\n",
        "!pip install torch numpy scipy"
      ],
      "execution_count": 0,
      "outputs": []
    },
    {
      "cell_type": "code",
      "metadata": {
        "id": "up6OtnbjImP_",
        "colab_type": "code",
        "cellView": "form",
        "colab": {}
      },
      "source": [
        "#@title Copy File in Demucs Directory\n",
        "!cp '/content/file.mp3' demucs/"
      ],
      "execution_count": 0,
      "outputs": []
    },
    {
      "cell_type": "code",
      "metadata": {
        "id": "XjE86VNaIybu",
        "colab_type": "code",
        "cellView": "form",
        "colab": {}
      },
      "source": [
        "#@title Go to Demucs Directory\n",
        "!cd demucs"
      ],
      "execution_count": 0,
      "outputs": []
    },
    {
      "cell_type": "code",
      "metadata": {
        "id": "ODF_QUbRyC10",
        "colab_type": "code",
        "cellView": "form",
        "colab": {}
      },
      "source": [
        "#@title Demucs Separation\n",
        "!pip install tqdm\n",
        "!python3 -m pip install -U lameenc #necesary to expot as .mp3\n",
        "!python3 -m demucs.separate --dl -n demucs --mp3 -d cpu '/content/file.mp3' "
      ],
      "execution_count": 0,
      "outputs": []
    },
    {
      "cell_type": "code",
      "metadata": {
        "id": "NcGyhc4OJcDL",
        "colab_type": "code",
        "cellView": "form",
        "colab": {}
      },
      "source": [
        "#@title Create Directories\n",
        "!mkdir /output/\n",
        "!mkdir /output/demucs/"
      ],
      "execution_count": 0,
      "outputs": []
    },
    {
      "cell_type": "code",
      "metadata": {
        "id": "SO69eqZkJR0K",
        "colab_type": "code",
        "cellView": "form",
        "colab": {}
      },
      "source": [
        "#@title Move Files\n",
        "!mv /content/demucs/separated/demucs/ /output/demucs/"
      ],
      "execution_count": 0,
      "outputs": []
    },
    {
      "cell_type": "markdown",
      "metadata": {
        "id": "kQQNg9d3GNm9",
        "colab_type": "text"
      },
      "source": [
        "### <a name=\"spleeter-by-deezer\"></a>SPLEETER by Deezer\n",
        "\n",
        "\n",
        "![picture](https://lh3.googleusercontent.com/proxy/CNqC--BTKG0sl83gZTbWPk3xNs_JfgVkUn8uKX87n11gppZA6Fk00Ki5nvPxxnxvx9kvNaQ5P84hmxOcKAx1UhbAfxRKmmZmynocYwCSUXl_BXZ0SXUVLPnj_DRqCINEzqZ8zmlbsS_rwl2vtWQ)\n",
        "\n",
        "Pre-trained models:\n",
        "* Vocals (singing voice) / accompaniment separation (2 stems)\n",
        "* Vocals / drums / bass / other separation (4 stems)\n",
        "* Vocals / drums / bass / piano / other separation (5 stems)\n",
        "\n",
        "[[Github]](https://github.com/deezer/spleeter) [[GoogleColab]](https://colab.research.google.com/github/deezer/spleeter/blob/master/spleeter.ipynb)\n",
        "\n",
        "Papers: \n",
        "\n",
        "* Andreas Jansson, Eric J. Humphrey, Nicola Montecchio, Rachel Bittner, Aparna Kumar, and Tillman Weyde. Singingvoice  separation  with  deep  u-net  convolutional  networks.  InProceedings of the International Society for MusicInformation Retrieval Conference (ISMIR), pages 323–332, 2017. [[Link]](https://openaccess.city.ac.uk/id/eprint/19289/1/)\n",
        "\n",
        "![picture](https://d3i71xaburhd42.cloudfront.net/83ea11b45cba0fc7ee5d60f608edae9c1443861d/3-Figure1-1.png)\n",
        "\n",
        "Other references to see: \n",
        "\n",
        "* MIMILAKIS, Stylianos I.; DROSSOS, Konstantinos; SCHULLER, Gerald. Unsupervised Interpretable Representation Learning for Singing Voice Separation. arXiv preprint arXiv:2003.01567, 2020. [[Link]](https://arxiv.org/pdf/2003.01567.pdf)"
      ]
    },
    {
      "cell_type": "code",
      "metadata": {
        "id": "iHkJaXFRFHaO",
        "colab_type": "code",
        "cellView": "form",
        "colab": {}
      },
      "source": [
        "#@title ffmpeg installation\n",
        "\n",
        "!apt install ffmpeg"
      ],
      "execution_count": 0,
      "outputs": []
    },
    {
      "cell_type": "code",
      "metadata": {
        "id": "gesNchwdEfmN",
        "colab_type": "code",
        "cellView": "form",
        "colab": {}
      },
      "source": [
        "#@title Spleeter Installation\n",
        "\n",
        "!pip install spleeter"
      ],
      "execution_count": 0,
      "outputs": []
    },
    {
      "cell_type": "code",
      "metadata": {
        "id": "bzdNhe8qErTx",
        "colab_type": "code",
        "cellView": "form",
        "colab": {}
      },
      "source": [
        "#@title Spleeter options (optional)\n",
        "!spleeter separate -h"
      ],
      "execution_count": 0,
      "outputs": []
    },
    {
      "cell_type": "code",
      "metadata": {
        "id": "L6A-2kbzllnX",
        "colab_type": "code",
        "cellView": "form",
        "colab": {}
      },
      "source": [
        "#@title Create Spleeter Directory\n",
        "\n",
        "!mkdir /output/spleeter"
      ],
      "execution_count": 0,
      "outputs": []
    },
    {
      "cell_type": "code",
      "metadata": {
        "id": "TZ3CQOFXEsNJ",
        "colab_type": "code",
        "cellView": "form",
        "colab": {}
      },
      "source": [
        "#@title Spleeter Separation\n",
        "!spleeter separate -i '/content/file.mp3' -p spleeter:4stems -o '/output/spleeter/' -c mp3"
      ],
      "execution_count": 0,
      "outputs": []
    },
    {
      "cell_type": "markdown",
      "metadata": {
        "id": "iAL-2O92WbCV",
        "colab_type": "text"
      },
      "source": [
        "Once we have the audio file separated we just show the audio samples to listen to them"
      ]
    },
    {
      "cell_type": "code",
      "metadata": {
        "id": "zoXGCrLMWXQ0",
        "colab_type": "code",
        "cellView": "form",
        "colab": {}
      },
      "source": [
        "#@title Path settings\n",
        "\n",
        "demucs_drums = '/output/demucs/demucs/file/drums.mp3'\n",
        "spleeter_drums = '/output/spleeter/file/drums.mp3'\n",
        "drums = [demucs_drums, spleeter_drums]\n",
        "\n",
        "demucs_bass = '/output/demucs/demucs/file/bass.mp3'\n",
        "spleeter_bass = '/output/spleeter/file/bass.mp3'\n",
        "bass = [demucs_bass, spleeter_bass]\n",
        "\n",
        "demucs_vocals = '/output/demucs/demucs/file/vocals.mp3'\n",
        "spleeter_vocals = '/output/spleeter/file/vocals.mp3'\n",
        "vocals = [demucs_vocals, spleeter_vocals]\n",
        "\n",
        "demucs_other = '/output/demucs/demucs/file/other.mp3'\n",
        "spleeter_other = '/output/spleeter/file/other.mp3'\n",
        "other = [demucs_other, spleeter_other]"
      ],
      "execution_count": 0,
      "outputs": []
    },
    {
      "cell_type": "code",
      "metadata": {
        "id": "TD2nKhZQX7QR",
        "colab_type": "code",
        "cellView": "form",
        "colab": {}
      },
      "source": [
        "#@title Play Song\n",
        "\n",
        "import IPython.display as ipd\n",
        "\n",
        "ipd.display(ipd.Audio('/content/file.mp3'))\n"
      ],
      "execution_count": 0,
      "outputs": []
    },
    {
      "cell_type": "code",
      "metadata": {
        "id": "P2JtFodjSDqd",
        "colab_type": "code",
        "cellView": "form",
        "colab": {}
      },
      "source": [
        "#@title Drums Audios\n",
        " \n",
        "print('demucs drums')\n",
        "ipd.display(ipd.Audio(demucs_drums))\n",
        "print('spleeter drums')\n",
        "ipd.display(ipd.Audio(spleeter_drums))\n"
      ],
      "execution_count": 0,
      "outputs": []
    },
    {
      "cell_type": "code",
      "metadata": {
        "id": "izG9fvudYRh7",
        "colab_type": "code",
        "cellView": "form",
        "colab": {}
      },
      "source": [
        "#@title Bass Audios\n",
        "print('demucs bass')\n",
        "ipd.display(ipd.Audio(demucs_bass))\n",
        "print('spleeter bass')\n",
        "ipd.display(ipd.Audio(spleeter_bass))"
      ],
      "execution_count": 0,
      "outputs": []
    },
    {
      "cell_type": "code",
      "metadata": {
        "id": "RmUFIu6rYXl5",
        "colab_type": "code",
        "cellView": "form",
        "colab": {}
      },
      "source": [
        "#@title Vocals Audios\n",
        "\n",
        "print('demucs vocals')\n",
        "ipd.display(ipd.Audio(demucs_vocals))\n",
        "print('spleeter vocals')\n",
        "ipd.display(ipd.Audio(spleeter_vocals))"
      ],
      "execution_count": 0,
      "outputs": []
    },
    {
      "cell_type": "code",
      "metadata": {
        "id": "K9GSdwVvYZCy",
        "colab_type": "code",
        "cellView": "form",
        "colab": {}
      },
      "source": [
        "#@title Other Audios\n",
        "\n",
        "print('demucs other')\n",
        "ipd.display(ipd.Audio(demucs_other))\n",
        "print('spleeter other')\n",
        "ipd.display(ipd.Audio(spleeter_other))"
      ],
      "execution_count": 0,
      "outputs": []
    },
    {
      "cell_type": "code",
      "metadata": {
        "id": "o2cx8oH6k4Jj",
        "colab_type": "code",
        "cellView": "form",
        "colab": {}
      },
      "source": [
        "#@title Download Files - zip (optional)\n",
        "\n",
        "!zip -r output.zip /output/\n",
        "\n",
        "from google.colab import files\n",
        "files.download(\"output.zip\")"
      ],
      "execution_count": 0,
      "outputs": []
    },
    {
      "cell_type": "markdown",
      "metadata": {
        "id": "XXaOG9iabajq",
        "colab_type": "text"
      },
      "source": [
        "### REFERENCES\n",
        "\n",
        "* Audio Source Separation (Signals and Communication Technology) (English Edition) 1st ed. 2018 Edition"
      ]
    },
    {
      "cell_type": "markdown",
      "metadata": {
        "id": "iuA-7ipNbeVx",
        "colab_type": "text"
      },
      "source": [
        "![+picture](https://webstockreview.net/images/decorative-clipart-end-line-1.png)"
      ]
    },
    {
      "cell_type": "markdown",
      "metadata": {
        "id": "dfOwx371dzv-",
        "colab_type": "text"
      },
      "source": [
        "Copyright 2020 Google LLC.\n",
        "\n",
        "Licensed under the Apache License, Version 2.0 (the \"License\");\n",
        "you may not use this file except in compliance with the License.\n",
        "You may obtain a copy of the License at\n",
        "\n",
        "    http://www.apache.org/licenses/LICENSE-2.0\n",
        "\n",
        "Unless required by applicable law or agreed to in writing, software\n",
        "distributed under the License is distributed on an \"AS IS\" BASIS,\n",
        "WITHOUT WARRANTIES OR CONDITIONS OF ANY KIND, either express or implied.\n",
        "See the License for the specific language governing permissions and\n",
        "limitations under the License."
      ]
    },
    {
      "cell_type": "markdown",
      "metadata": {
        "id": "3CLWBOKwbnwI",
        "colab_type": "text"
      },
      "source": [
        "## <a name=\"onset-detection\"></a>ONSET DETECTION\n",
        "\n",
        "Now, once we have the sources separated we will obtain the midis associated to each source. \n",
        "\n",
        "Note: As the source separation is not perfect, there will be noise which will make te midis not so accurate.\n",
        "\n",
        "![+picture](https://www.researchgate.net/profile/Gilberto_Bernardes2/publication/299446066/figure/fig1/AS:613999402033152@1523400273114/Amplitude-and-pitch-detection-functions-for-audio-onset-detection-Vertical-lines.png)\n",
        "\n",
        "### <a name=\"magenta-onsets\"></a>MAGENTA ONSET AND FRAMES - Polyphonic piano music transcription\n",
        "\n",
        "Convert raw recordings of solo piano performances into MIDI files.\n",
        "\n",
        "[[Website]](https://magenta.tensorflow.org/onsets-frames) [[GoogleColab]](https://colab.research.google.com/notebooks/magenta/onsets_frames_transcription/onsets_frames_transcription.ipynb) [[Github]](https://github.com/tensorflow/magenta/tree/master/magenta/models/onsets_frames_transcription)\n",
        "\n",
        "![picture](https://magenta.tensorflow.org/assets/onsets_frames/networkstack9.png)"
      ]
    },
    {
      "cell_type": "markdown",
      "metadata": {
        "id": "J2pwiBhPsPZz",
        "colab_type": "text"
      },
      "source": [
        "Onsets an Frames from Magenta work with .wav files so we convert the .mp3 files to wav"
      ]
    },
    {
      "cell_type": "code",
      "metadata": {
        "id": "0jM839cZqpvS",
        "colab_type": "code",
        "colab": {},
        "cellView": "form"
      },
      "source": [
        "#@title Change file .mp3 to .wav\n",
        "\n",
        "#Demucs\n",
        "os.rename(r'/output/demucs/demucs/file/drums.mp3',r'/output/demucs/demucs/file/drums.wav')\n",
        "os.rename(r'/output/demucs/demucs/file/bass.mp3',r'/output/demucs/demucs/file/bass.wav')\n",
        "os.rename(r'/output/demucs/demucs/file/vocals.mp3',r'/output/demucs/demucs/file/vocals.wav')\n",
        "os.rename(r'/output/demucs/demucs/file/other.mp3',r'/output/demucs/demucs/file/other.wav')\n",
        "\n",
        "#Spleeter\n",
        "os.rename(r'/output/spleeter/file/drums.mp3',r'/output/spleeter/file/drums.wav')\n",
        "os.rename(r'/output/spleeter/file/bass.mp3',r'/output/spleeter/file/bass.wav')\n",
        "os.rename(r'/output/spleeter/file/vocals.mp3',r'/output/spleeter/file/vocals.wav')\n",
        "os.rename(r'/output/spleeter/file/other.mp3',r'/output/spleeter/file/other.wav')"
      ],
      "execution_count": 0,
      "outputs": []
    },
    {
      "cell_type": "markdown",
      "metadata": {
        "id": "ezqmFutJb3x-",
        "colab_type": "text"
      },
      "source": [
        "We have to obtain a midi file from each separated source, so we will have drums.wav, drums.wav.midi,..."
      ]
    },
    {
      "cell_type": "code",
      "metadata": {
        "id": "Tn00fohZd9vk",
        "colab_type": "code",
        "cellView": "form",
        "colab": {}
      },
      "source": [
        "#@title Setup Environment\n",
        "\n",
        "from __future__ import absolute_import\n",
        "from __future__ import division\n",
        "from __future__ import print_function\n",
        "\n",
        "import glob\n",
        "\n",
        "print('Copying checkpoint from GCS...')\n",
        "!rm -r /content/onsets-frames\n",
        "!mkdir /content/onsets-frames\n",
        "!gsutil -q -m cp -R gs://magentadata/models/onsets_frames_transcription/* /content/onsets-frames/\n",
        "!unzip -o /content/onsets-frames/checkpoint.zip -d /content/onsets-frames\n",
        "CHECKPOINT_DIR = '/content/onsets-frames/train'\n",
        "  \n",
        "print('Installing dependencies...')\n",
        "!apt-get update -qq && apt-get install -qq libfluidsynth1 fluid-soundfont-gm build-essential libasound2-dev libjack-dev ffmpeg  \n",
        "!pip install pyfluidsynth pretty_midi\n",
        "\n",
        "if glob.glob('/content/onsets-frames/magenta*.whl'):\n",
        "  !pip install -q /content/onsets-frames/magenta*.whl\n",
        "else:\n",
        "  !pip install -q magenta\n",
        "\n",
        "# Hack to allow python to pick up the newly-installed fluidsynth lib.\n",
        "import ctypes.util\n",
        "\n",
        "orig_find_library = ctypes.util.find_library\n",
        "def proxy_find_library(lib):\n",
        "  if lib == 'fluidsynth':\n",
        "    return 'libfluidsynth.so.1'\n",
        "  else:\n",
        "    return orig_find_library(lib)\n",
        "\n",
        "ctypes.util.find_library = proxy_find_library"
      ],
      "execution_count": 0,
      "outputs": []
    },
    {
      "cell_type": "code",
      "metadata": {
        "id": "pKGwQiTquHgk",
        "colab_type": "code",
        "colab": {},
        "cellView": "form"
      },
      "source": [
        "#@title Initialize Model\n",
        "import tensorflow.compat.v1 as tf\n",
        "import librosa\n",
        "import numpy as np\n",
        "\n",
        "from google.colab import files\n",
        "\n",
        "from magenta.common import tf_utils\n",
        "from magenta.music import audio_io\n",
        "import magenta.music as mm\n",
        "from magenta.models.onsets_frames_transcription import audio_label_data_utils\n",
        "from magenta.models.onsets_frames_transcription import configs\n",
        "from magenta.models.onsets_frames_transcription import constants\n",
        "from magenta.models.onsets_frames_transcription import data\n",
        "from magenta.models.onsets_frames_transcription import infer_util\n",
        "from magenta.models.onsets_frames_transcription import train_util\n",
        "from magenta.music import midi_io\n",
        "from magenta.music.protobuf import music_pb2\n",
        "from magenta.music import sequences_lib"
      ],
      "execution_count": 0,
      "outputs": []
    },
    {
      "cell_type": "code",
      "metadata": {
        "id": "rj5MRSbncEDs",
        "colab_type": "code",
        "cellView": "form",
        "colab": {}
      },
      "source": [
        "#@title Convert SPLEETER DRUMS to midi with E-GMD checkpoint (this model is only for drums transcription)\n",
        "\n",
        "!MODEL_DIR=/content/onsets-frames/train\n",
        "!onsets_frames_transcription_transcribe \\\n",
        "  --model_dir=\"${CHECKPOINT_DIR}\" \\\n",
        "  --config=\"drums\" \\\n",
        "  /output/spleeter/file/drums.wav"
      ],
      "execution_count": 0,
      "outputs": []
    },
    {
      "cell_type": "code",
      "metadata": {
        "id": "YTqKez76cH0S",
        "colab_type": "code",
        "cellView": "form",
        "colab": {}
      },
      "source": [
        "#@title Convert SPLEETER BASS to midi with MAESTRO checkpoint\n",
        "\n",
        "!MODEL_DIR=MAESTRO_CHECKPOINT_DIR\n",
        "!onsets_frames_transcription_transcribe \\\n",
        "  --model_dir=\"${MODEL_DIR}\" \\\n",
        "  --hparams=use_cudnn=false \\\n",
        "  output/spleeter/file/bass.wav"
      ],
      "execution_count": 0,
      "outputs": []
    },
    {
      "cell_type": "code",
      "metadata": {
        "id": "Y_SLZxokeg0T",
        "colab_type": "code",
        "cellView": "form",
        "colab": {}
      },
      "source": [
        "#@title Convert SPLEETER VOCALS to midi with MAESTRO checkpoint\n",
        "\n",
        "!MODEL_DIR=\"/content/onsets_frames_transcription/checkpoints/MAESTRO\"\n",
        "!onsets_frames_transcription_transcribe \\\n",
        "  --model_dir=\"${MODEL_DIR}\" \\\n",
        "  --hparams=use_cudnn=false \\\n",
        "  output/spleeter/file/vocals.wav"
      ],
      "execution_count": 0,
      "outputs": []
    },
    {
      "cell_type": "code",
      "metadata": {
        "id": "mkyrOaCqei33",
        "colab_type": "code",
        "cellView": "form",
        "colab": {}
      },
      "source": [
        "#@title Convert SPLEETER OTHER to midi with MAESTRO checkpoint\n",
        "\n",
        "!MODEL_DIR=\"/content/onsets_frames_transcription/checkpoints/MAESTRO\"\n",
        "!onsets_frames_transcription_transcribe \\\n",
        "  --model_dir=\"${MODEL_DIR}\" \\\n",
        "  --hparams=use_cudnn=false \\\n",
        "  output/spleeter/file/other.wav"
      ],
      "execution_count": 0,
      "outputs": []
    },
    {
      "cell_type": "code",
      "metadata": {
        "id": "5-W-GJqgflg6",
        "colab_type": "code",
        "cellView": "form",
        "colab": {}
      },
      "source": [
        "#@title General function to plot piano-roll representation + midi and wav comparation\n",
        "import bokeh \n",
        "import magenta.music as mm\n",
        "\n",
        "def compare_wav_and_midi(separated_souce, spleeter_wav, demucs_wav):\n",
        "    \n",
        "    print(\"================================SPLEETER=========================================\")\n",
        "    file_spleeter = 'output/spleeter/file/' + separated_source + \".wav.midi\"\n",
        "\n",
        "    note_seq_spleeter = mm.midi_file_to_sequence_proto(file_spleeter)\n",
        "\n",
        "    # This is a colab utility method that visualizes a NoteSequence.\n",
        "    fig = mm.plot_sequence(note_seq_spleeter, show_figure=False)\n",
        "    fig.plot_width = 8000\n",
        "    fig.plot_height = 200\n",
        "    bokeh.plotting.output_notebook()\n",
        "    bokeh.plotting.show(fig)\n",
        "\n",
        "    # This is a colab utility method that plays a NoteSequence.\n",
        "    print('spleeter', separated_souce ,'midi')\n",
        "    mm.play_sequence(note_seq_spleeter,synth=mm.fluidsynth)\n",
        "\n",
        "    print('spleeter', separated_souce ,'wav')\n",
        "    ipd.display(ipd.Audio(spleeter_wav))\n",
        "\n",
        "    \n",
        "    print(\"=====================================DEMUCS=======================================\")\n",
        "    file_demucs = 'output/spleeter/file/' + separated_source + \".wav.midi\"\n",
        "\n",
        "    note_seq_demucs = mm.midi_file_to_sequence_proto(file_demucs)\n",
        "\n",
        "    # This is a colab utility method that visualizes a NoteSequence.\n",
        "    fig = mm.plot_sequence(note_seq_demucs, show_figure=False)\n",
        "    fig.plot_width = 8000\n",
        "    fig.plot_height = 200\n",
        "    bokeh.plotting.output_notebook()\n",
        "    bokeh.plotting.show(fig)\n",
        "\n",
        "    # This is a colab utility method that plays a NoteSequence.\n",
        "    print('demucs', separated_souce ,'midi')\n",
        "    mm.play_sequence(note_seq_demucs,synth=mm.fluidsynth)\n",
        "\n",
        "    print('demucs', separated_souce ,'wav')\n",
        "    ipd.display(ipd.Audio(demucs_wav))\n",
        "    \n",
        "    return"
      ],
      "execution_count": 0,
      "outputs": []
    },
    {
      "cell_type": "code",
      "metadata": {
        "id": "yVquDxD-gDff",
        "colab_type": "code",
        "cellView": "form",
        "colab": {}
      },
      "source": [
        "#@title \"Drums\" midi vs audio | spleeter vs demucs\n",
        "\n",
        "separated_source = \"drums\"\n",
        "spleeter_wav = spleeter_drums\n",
        "demucs_wav = demucs_drums\n",
        "compare_wav_and_midi(separated_source, spleeter_wav, demucs_wav)"
      ],
      "execution_count": 0,
      "outputs": []
    },
    {
      "cell_type": "code",
      "metadata": {
        "id": "6lyo43j6fxuz",
        "colab_type": "code",
        "cellView": "form",
        "colab": {}
      },
      "source": [
        "#@title \"Bass\" midi vs audio | spleeter vs demucs\n",
        "\n",
        "separated_source = \"bass\"\n",
        "spleeter_wav = spleeter_bass\n",
        "demucs_wav = demucs_bass\n",
        "compare_wav_and_midi(separated_source, spleeter_wav, demucs_wav)"
      ],
      "execution_count": 0,
      "outputs": []
    },
    {
      "cell_type": "code",
      "metadata": {
        "id": "BdXrNZdGh-78",
        "colab_type": "code",
        "cellView": "form",
        "colab": {}
      },
      "source": [
        "#@title \"Vocals\" midi vs audio | spleeter vs demucs\n",
        "\n",
        "separated_source = \"vocals\"\n",
        "spleeter_wav = spleeter_vocals\n",
        "demucs_wav = demucs_vocals\n",
        "compare_wav_and_midi(separated_source, spleeter_wav, demucs_wav)"
      ],
      "execution_count": 0,
      "outputs": []
    },
    {
      "cell_type": "code",
      "metadata": {
        "id": "kYi5k5mkiBJN",
        "colab_type": "code",
        "cellView": "form",
        "colab": {}
      },
      "source": [
        "#@title \"Other\" midi vs audio | spleeter vs demucs\n",
        "\n",
        "separated_source = \"other\"\n",
        "spleeter_wav = spleeter_other\n",
        "demucs_wav = demucs_other\n",
        "compare_wav_and_midi(separated_source, spleeter_wav, demucs_wav)"
      ],
      "execution_count": 0,
      "outputs": []
    },
    {
      "cell_type": "markdown",
      "metadata": {
        "id": "bKP5e9fa7k4U",
        "colab_type": "text"
      },
      "source": [
        "..................................."
      ]
    }
  ]
}
